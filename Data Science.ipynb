{
    "cells": [
        {
            "cell_type": "markdown",
            "metadata": {
                "collapsed": true
            },
            "source": "# My Jupyter Notebook on IBM Watson Studio"
        },
        {
            "cell_type": "markdown",
            "metadata": {},
            "source": "**Diego Eduardo Quispe Ravichagua**\n\nData Scientist"
        },
        {
            "cell_type": "markdown",
            "metadata": {},
            "source": "*I am interested in data science because I love to explore and analyze data using statistics and I like programming too.*"
        },
        {
            "cell_type": "markdown",
            "metadata": {},
            "source": "### Converting hours to minutes"
        },
        {
            "cell_type": "code",
            "execution_count": 2,
            "metadata": {},
            "outputs": [
                {
                    "data": {
                        "text/plain": "300"
                    },
                    "execution_count": 2,
                    "metadata": {},
                    "output_type": "execute_result"
                }
            ],
            "source": "5*60"
        },
        {
            "cell_type": "markdown",
            "metadata": {},
            "source": "### Courses I've finished\n\n- What is Data Science?\n- Tools for Data Science\n\n### Courses I've not finished\n\n1. Data Science Methodology\n2. Python for Data Science, AI & Development\n3. Pythong Project for Data Science\n4. Databases and SQL for Data Science with Python\n5. Data Analysis with Python\n6. Data Visualization with Python\n7. Machine Learning with Python\n8. Applied Data Science Capstone\n\n### Other Courses I've finished\n\n|Course|Institution|\n|-|-|\n|Quality of service to citizens|CEPEG|\n|State contracts|CEPEG|\n|Public Management|CEPEG|\n\n### Link to my LinkedIn profile\n\n[See my professional profile here](https://www.linkedin.com/in/diego-eduardo-quispe-ravichagua/)\n\n![LinkedIn](https://encrypted-tbn0.gstatic.com/images?q=tbn:ANd9GcRdBs7Lj1mdY1TwKPEVgyHihwxfAsA0XYBfF5ikS9XQrA&s)"
        }
    ],
    "metadata": {
        "kernelspec": {
            "display_name": "Python 3.10",
            "language": "python",
            "name": "python3"
        },
        "language_info": {
            "codemirror_mode": {
                "name": "ipython",
                "version": 3
            },
            "file_extension": ".py",
            "mimetype": "text/x-python",
            "name": "python",
            "nbconvert_exporter": "python",
            "pygments_lexer": "ipython3",
            "version": "3.10.14"
        }
    },
    "nbformat": 4,
    "nbformat_minor": 1
}